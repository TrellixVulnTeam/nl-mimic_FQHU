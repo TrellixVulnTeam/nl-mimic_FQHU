{
 "cells": [
  {
   "cell_type": "code",
   "execution_count": 2,
   "metadata": {
    "tags": []
   },
   "outputs": [],
   "source": [
    "import random"
   ]
  },
  {
   "cell_type": "code",
   "execution_count": 56,
   "metadata": {},
   "outputs": [],
   "source": [
    "class PairLink:\n",
    "    \n",
    "    def __init__(self, key, value, unwanted = []):\n",
    "        self._unwanted = unwanted\n",
    "        self._val = value\n",
    "        self._key = key\n",
    "    \n",
    "    def clean(self, f):\n",
    "        def alter(elt):\n",
    "            if type(elt) != str: return None\n",
    "            for item in self._unwanted:\n",
    "                if type(elt) == str:\n",
    "                    elt = elt.replace(item, '')\n",
    "            return f(elt)\n",
    "        self._val = alter(self._val)\n",
    "        self._key = alter(self._key)\n",
    "    \n",
    "    def list_repr(self):\n",
    "        return [self._key, self._val]\n",
    "    \n",
    "    def dict_repr(self):\n",
    "        return {self._key: self._val}\n",
    "    \n",
    "    def val(self):\n",
    "        return self._val\n",
    "    \n",
    "    def key(self):\n",
    "        return self._key\n",
    "    \n",
    "    def __repr__(self):\n",
    "        return str(self._key) + ' -> ' + str(self._val)"
   ]
  },
  {
   "cell_type": "code",
   "execution_count": 57,
   "metadata": {},
   "outputs": [],
   "source": [
    "class MkvPool:\n",
    "    \n",
    "    def __init__(self, pair_link_list):\n",
    "        self._list = [l for l in pair_link_list]\n",
    "    \n",
    "    def clean_all(self, f):\n",
    "        return [l.clean(f) for l in self._list]\n",
    "    \n",
    "    def item_list(self):\n",
    "        return [item for item in dic(self).keys()]\n",
    "    \n",
    "    def size(self):\n",
    "        return len(self._list)\n",
    "    \n",
    "    def lst(self):\n",
    "        return self._list\n",
    "    \n",
    "    def dic(self):\n",
    "        return {l.key(): l.val() for l in self._list}\n",
    "    \n",
    "    def most_likely_to_see_after(self, first):\n",
    "        k = {}\n",
    "        for l in self.lst():\n",
    "            if l.key() == first:\n",
    "                if k[l.key()] not in k:\n",
    "                    k[l.key()] = 1\n",
    "                else:\n",
    "                    k[l.key()] += 1\n",
    "        return max(k, key = k.get)"
   ]
  },
  {
   "cell_type": "code",
   "execution_count": 65,
   "metadata": {},
   "outputs": [],
   "source": [
    "def read_txt(file, characters = None):\n",
    "    finn = open(file)\n",
    "    data = finn.read(characters)\n",
    "    finn.close()\n",
    "    return data\n",
    "\n",
    "def word_PairLinks(string, unwanted_chars):\n",
    "    words = string.split()\n",
    "    links = [PairLink(None, words[0], unwanted_chars)]\n",
    "    for i in range(len(words) - 2):\n",
    "        links.append(PairLink(words[i], words[i + 1], unwanted_chars))\n",
    "    links.append(PairLink(words[-1], None))\n",
    "    return links\n",
    "\n",
    "unwanted = ['\"', '^', '*', '-', '_', '/', '[', ']', '<', '>', '~', ',']\n",
    "txt = read_txt('data/huck_finn.txt', 80000)\n",
    "word_pairs = word_PairLinks(txt, unwanted)\n",
    "pool = MkvPool(word_pairs)\n",
    "pool.clean_all(lambda s: s.lower())\n",
    "\n",
    "pooldict = pool"
   ]
  },
  {
   "cell_type": "code",
   "execution_count": 66,
   "metadata": {},
   "outputs": [],
   "source": [
    "def make_chain(dictionary, length, seed = None):\n",
    "    counter = 0\n",
    "    last = seed\n",
    "    chain = ''\n",
    "    while counter < length:\n",
    "        nxt = dictionary.most_likely_to_see_after(last)\n",
    "        chain += nxt\n",
    "        last = nxt\n",
    "        counter += 1\n",
    "    return chain"
   ]
  },
  {
   "cell_type": "code",
   "execution_count": 67,
   "metadata": {},
   "outputs": [
    {
     "ename": "KeyError",
     "evalue": "'trouble'",
     "output_type": "error",
     "traceback": [
      "\u001b[0;31m---------------------------------------------------------------------------\u001b[0m",
      "\u001b[0;31mKeyError\u001b[0m                                  Traceback (most recent call last)",
      "Input \u001b[0;32mIn [67]\u001b[0m, in \u001b[0;36m<module>\u001b[0;34m\u001b[0m\n\u001b[0;32m----> 1\u001b[0m \u001b[38;5;28mprint\u001b[39m(\u001b[43mmake_chain\u001b[49m\u001b[43m(\u001b[49m\u001b[43mpool\u001b[49m\u001b[43m,\u001b[49m\u001b[43m \u001b[49m\u001b[38;5;241;43m10\u001b[39;49m\u001b[43m,\u001b[49m\u001b[43m \u001b[49m\u001b[38;5;124;43m'\u001b[39;49m\u001b[38;5;124;43mmake\u001b[39;49m\u001b[38;5;124;43m'\u001b[39;49m\u001b[43m)\u001b[49m)\n",
      "Input \u001b[0;32mIn [66]\u001b[0m, in \u001b[0;36mmake_chain\u001b[0;34m(dictionary, length, seed)\u001b[0m\n\u001b[1;32m      4\u001b[0m chain \u001b[38;5;241m=\u001b[39m \u001b[38;5;124m'\u001b[39m\u001b[38;5;124m'\u001b[39m\n\u001b[1;32m      5\u001b[0m \u001b[38;5;28;01mwhile\u001b[39;00m counter \u001b[38;5;241m<\u001b[39m length:\n\u001b[0;32m----> 6\u001b[0m     nxt \u001b[38;5;241m=\u001b[39m \u001b[43mdictionary\u001b[49m\u001b[38;5;241;43m.\u001b[39;49m\u001b[43mmost_likely_to_see_after\u001b[49m\u001b[43m(\u001b[49m\u001b[43mlast\u001b[49m\u001b[43m)\u001b[49m\n\u001b[1;32m      7\u001b[0m     chain \u001b[38;5;241m+\u001b[39m\u001b[38;5;241m=\u001b[39m nxt\n\u001b[1;32m      8\u001b[0m     last \u001b[38;5;241m=\u001b[39m nxt\n",
      "Input \u001b[0;32mIn [57]\u001b[0m, in \u001b[0;36mMkvPool.most_likely_to_see_after\u001b[0;34m(self, first)\u001b[0m\n\u001b[1;32m     23\u001b[0m \u001b[38;5;28;01mfor\u001b[39;00m l \u001b[38;5;129;01min\u001b[39;00m \u001b[38;5;28mself\u001b[39m\u001b[38;5;241m.\u001b[39mlst():\n\u001b[1;32m     24\u001b[0m     \u001b[38;5;28;01mif\u001b[39;00m l\u001b[38;5;241m.\u001b[39mkey() \u001b[38;5;241m==\u001b[39m first:\n\u001b[0;32m---> 25\u001b[0m         k[l\u001b[38;5;241m.\u001b[39mval()] \u001b[38;5;241m+\u001b[39m\u001b[38;5;241m=\u001b[39m \u001b[38;5;241m1\u001b[39m\n\u001b[1;32m     26\u001b[0m \u001b[38;5;28;01mreturn\u001b[39;00m \u001b[38;5;28mmax\u001b[39m(k, key \u001b[38;5;241m=\u001b[39m k\u001b[38;5;241m.\u001b[39mget)\n",
      "\u001b[0;31mKeyError\u001b[0m: 'trouble'"
     ]
    }
   ],
   "source": [
    "print(make_chain(pool, 10, 'make'))"
   ]
  },
  {
   "cell_type": "code",
   "execution_count": null,
   "metadata": {},
   "outputs": [],
   "source": []
  }
 ],
 "metadata": {
  "anaconda-cloud": {},
  "celltoolbar": "Raw Cell Format",
  "kernelspec": {
   "display_name": "venv",
   "language": "python",
   "name": "venv"
  },
  "language_info": {
   "codemirror_mode": {
    "name": "ipython",
    "version": 3
   },
   "file_extension": ".py",
   "mimetype": "text/x-python",
   "name": "python",
   "nbconvert_exporter": "python",
   "pygments_lexer": "ipython3",
   "version": "3.9.6"
  },
  "toc-showmarkdowntxt": true
 },
 "nbformat": 4,
 "nbformat_minor": 4
}
