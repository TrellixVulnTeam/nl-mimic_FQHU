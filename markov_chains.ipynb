{
 "cells": [
  {
   "cell_type": "markdown",
   "metadata": {},
   "source": [
    "# Markov chains use example\n",
    "Max Fierro 02/20/2022\n",
    "\n",
    "### Motivation:\n",
    "This is my first exercise working with both a jupyter notebook and the concept of a Markov chain. The idea is one I was briefly exposed to as a sidenote in one of my classes, CS61a at UC Berkeley in Fall '21. I think I remember one of my instructors, Pamela Fox, briefly going into a tangent of how you could sort of emulate what someone could say by making a 'dictionary' of words from a text, in such a way that every `key:value` pair is every `word:nextword`. It's pretty simple, and it has the somewhat cool property that obtaining `dict[word]` would (if computers were not so annoyingly deterministic) fetch some `nextword`, where the probability of choosing it depends on the amount of times it appears after `word` divided by the total number of appearances of `word` in the text.\n",
    "\n",
    "### Contents:\n",
    "This also being my first 'real' practical experience working with data, I thought I should be as verbose as possible. While I know this is obviously not the most elegant way of doing this, the code is pretty easy to understand and allows for seeing what is happening at every step of the (albeit very short) way, in case you are into that (TBH I also needed a tiny refresher with Python). BTW, I do not endorse the language used in 'Adventures of Huckleberry Finn' by Mark Twain, in case you are either pseudo-stochastically or deterministically presented a no-no word.\n",
    "\n",
    "   So! Here is what is in this notebook:\n",
    "1. A `PairLink` class defining `word:nextword` pairs."
   ]
  },
  {
   "cell_type": "code",
   "execution_count": 1,
   "metadata": {},
   "outputs": [],
   "source": [
    "import random"
   ]
  },
  {
   "cell_type": "code",
   "execution_count": 2,
   "metadata": {},
   "outputs": [],
   "source": [
    "class PairLink:\n",
    "    \n",
    "    def __init__(self, key, value, unwanted = []):\n",
    "        self._unwanted = unwanted\n",
    "        self._val = value\n",
    "        self._key = key\n",
    "    \n",
    "    def clean(self, f):\n",
    "        def alter(elt):\n",
    "            if type(elt) != str: return None\n",
    "            for item in self._unwanted:\n",
    "                if type(elt) == str:\n",
    "                    elt = elt.replace(item, '')\n",
    "            return f(elt)\n",
    "        self._val = alter(self._val)\n",
    "        self._key = alter(self._key)\n",
    "    \n",
    "    def val(self):\n",
    "        return self._val\n",
    "    \n",
    "    def key(self):\n",
    "        return self._key\n",
    "    \n",
    "    def __repr__(self):\n",
    "        return str(self._key) + ' -> ' + str(self._val)"
   ]
  },
  {
   "cell_type": "markdown",
   "metadata": {},
   "source": [
    "2. A `MkvPool` class defining a collection of `PairLink`s."
   ]
  },
  {
   "cell_type": "code",
   "execution_count": 3,
   "metadata": {},
   "outputs": [],
   "source": [
    "class MkvPool:\n",
    "    \n",
    "    def __init__(self, pair_link_list):\n",
    "        self._list = [l for l in pair_link_list]\n",
    "    \n",
    "    def clean_all(self, f):\n",
    "        [l.clean(f) for l in self._list]\n",
    "    \n",
    "    def item_list(self):\n",
    "        return [item for item in dic(self).keys()]\n",
    "    \n",
    "    def size(self):\n",
    "        return len(self._list)\n",
    "    \n",
    "    def lst(self):\n",
    "        return self._list\n",
    "    \n",
    "    def dic(self):\n",
    "        return {l.key(): l.val() for l in self._list}\n",
    "    \n",
    "    def choose_with_key(self, key):\n",
    "        return [l for l in self._list if l.key() == key]\n",
    "    \n",
    "    def next_deterministic(self, first):\n",
    "        k = {}\n",
    "        for l in self.lst():\n",
    "            if l.key() == first:\n",
    "                if l.val() not in k.keys():\n",
    "                    k[l.val()] = 1\n",
    "                else:\n",
    "                    k[l.val()] += 1\n",
    "        return max(k, key = k.get)"
   ]
  },
  {
   "cell_type": "markdown",
   "metadata": {},
   "source": [
    "3. The function `read_txt` which unloads a .txt file into a string, and `word_PairLinks` which turns it into `PairLink`s."
   ]
  },
  {
   "cell_type": "code",
   "execution_count": 4,
   "metadata": {},
   "outputs": [],
   "source": [
    "def read_txt(file, characters = None):\n",
    "    finn = open(file)\n",
    "    data = finn.read(characters)\n",
    "    finn.close()\n",
    "    return data\n",
    "\n",
    "def word_PairLinks(string, unwanted_chars):\n",
    "    words = string.split()\n",
    "    links = [PairLink(None, words[0], unwanted_chars)]\n",
    "    for i in range(len(words) - 2):\n",
    "        links.append(PairLink(words[i], words[i + 1], unwanted_chars))\n",
    "    links.append(PairLink(words[-1], None))\n",
    "    return links\n",
    "\n",
    "unwanted = ['\"', '^', '*', '-', '_', '/', '[', ']', '<', '>', '~', ',']\n",
    "txt = read_txt('data/huck_finn.txt', 900000000)\n",
    "word_pairs = word_PairLinks(txt, unwanted)\n",
    "pool = MkvPool(word_pairs)\n",
    "pool.clean_all(lambda s: s.lower())\n",
    "\n",
    "pooldict = pool.dic()"
   ]
  },
  {
   "cell_type": "markdown",
   "metadata": {},
   "source": [
    "4. The funciton `make_deterministic_chain` which creates a chain of words in an intentionally deterministic way, choosing the `nextword` which appears most often after `word` every time. This understandably stablizes the model the model, resulting in loopy output which Mark Twain would sadly never say.\n",
    "1. The function `make_stochastic_chain` which also creates a word chain, this time stochastically."
   ]
  },
  {
   "cell_type": "code",
   "execution_count": 5,
   "metadata": {},
   "outputs": [],
   "source": [
    "def make_deterministic_chain(pool, length, seed = None):\n",
    "    counter = 0\n",
    "    last = seed\n",
    "    chain = '' if not seed else seed\n",
    "    while counter < length:\n",
    "        nxt = pool.next_deterministic(last)\n",
    "        chain += ' ' + nxt\n",
    "        last = nxt\n",
    "        counter += 1\n",
    "    return chain\n",
    "\n",
    "def make_stochastic_chain(pool, length, seed = None):\n",
    "    counter = 0\n",
    "    last = seed\n",
    "    chain = '' if not seed else seed\n",
    "    while counter < length:\n",
    "        nxt = random.choice(pool.choose_with_key(last)).val()\n",
    "        chain += ' ' + nxt\n",
    "        last = nxt\n",
    "        counter += 1\n",
    "    return chain"
   ]
  },
  {
   "cell_type": "markdown",
   "metadata": {},
   "source": [
    "### Conclusion:\n",
    "While this served its purpose as a first exercise, it obviously constitutes a very poor model when it comes to prediction. It also has a lot of unnecessary stuff which I made for the sake of killing time and remembering some details about Python, which probably make it very unefficient. I think I will try to make another version which is both more eficient and coded more concisely after reading a bit about Markov chains (note how all I know about them right now is the 3-sentence overview graciously provided by Pamela about a semester ago) including their mathematical representation and properties, which I decided to omit considering the apparent simplicity of the task at hand. But you can never really know too much math, can you?"
   ]
  },
  {
   "cell_type": "code",
   "execution_count": 6,
   "metadata": {},
   "outputs": [
    {
     "name": "stdout",
     "output_type": "stream",
     "text": [
      "\n",
      "Deterministic prediction: a little and the king he was a little and the king he was a little and the king he was\n",
      "\n",
      "Stochastic prediction: i pulled his shoulder every which you might join has stopped and gaping and her hid; and walked ashore. then somebody\n"
     ]
    }
   ],
   "source": [
    "\"\"\"\n",
    "You can change the length and seed of the predictions. Notice how the output\n",
    "of the deterministic chain eventually stabilizes into repetition. Exercise for\n",
    "the reader: Determine, on average, after how many words the deterministic chain \n",
    "exhibits cyclic behavior given some seed word W in some dataset D.\n",
    "\n",
    "Now that I've left an exercise for the reader, I can die in peace.\n",
    "\"\"\"\n",
    "print('\\nDeterministic prediction:', make_deterministic_chain(pool, 20, 'a'))\n",
    "print('\\nStochastic prediction:', make_stochastic_chain(pool, 20, 'i'))"
   ]
  }
 ],
 "metadata": {
  "anaconda-cloud": {},
  "celltoolbar": "Raw Cell Format",
  "kernelspec": {
   "display_name": "venv",
   "language": "python",
   "name": "venv"
  },
  "language_info": {
   "codemirror_mode": {
    "name": "ipython",
    "version": 3
   },
   "file_extension": ".py",
   "mimetype": "text/x-python",
   "name": "python",
   "nbconvert_exporter": "python",
   "pygments_lexer": "ipython3",
   "version": "3.9.6"
  },
  "toc-showmarkdowntxt": true
 },
 "nbformat": 4,
 "nbformat_minor": 4
}
