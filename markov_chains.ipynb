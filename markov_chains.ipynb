{
 "cells": [
  {
   "cell_type": "code",
   "execution_count": 2,
   "metadata": {
    "tags": []
   },
   "outputs": [],
   "source": [
    "import random"
   ]
  },
  {
   "cell_type": "code",
   "execution_count": 4,
   "metadata": {},
   "outputs": [],
   "source": [
    "data = open('data/huck_finn.txt')\n",
    "words = data.read(3000*15).split()\n",
    "data.close()"
   ]
  },
  {
   "cell_type": "code",
   "execution_count": 5,
   "metadata": {},
   "outputs": [],
   "source": [
    "pairs = {}\n",
    "R = range(len(words) - 2)\n",
    "for word in words:\n",
    "    pairs[word] = [[words[i + 1], words[i + 2]] for i in R if words[i] == word]"
   ]
  },
  {
   "cell_type": "code",
   "execution_count": 6,
   "metadata": {},
   "outputs": [],
   "source": [
    "def make_chain(pairs, length, init):\n",
    "    chain = ''\n",
    "    for i in range(length):\n",
    "        if i == 0: \n",
    "            chain = init\n",
    "            last = chain\n",
    "        elif i % 3 == 1:\n",
    "            candidates = pairs[last]\n",
    "            couple = candidates[random.randint(0, len(candidates) - 1)]\n",
    "            chain += ' %s' % couple[0]\n",
    "            last, nxt = couple[0], couple[1]\n",
    "        else:\n",
    "            couple = []\n",
    "            for bine in pairs[last]:\n",
    "                if bine[0] == nxt:\n",
    "                    couple = bine\n",
    "            chain += ' %s' % couple[0]\n",
    "            last, nxt = couple[0], couple[1]\n",
    "    return chain"
   ]
  },
  {
   "cell_type": "code",
   "execution_count": 7,
   "metadata": {},
   "outputs": [
    {
     "name": "stdout",
     "output_type": "stream",
     "text": [
      "I says to myself, if a body sick, a white to make him pretty clear, because it was woody and there warn't any good to itch. It itched till the old man was up to my room with a shotgun, maybe, but he didn't know where his face showed; it\n"
     ]
    }
   ],
   "source": [
    "print(make_chain(pairs, 50, 'I'))"
   ]
  },
  {
   "cell_type": "code",
   "execution_count": null,
   "metadata": {},
   "outputs": [],
   "source": []
  }
 ],
 "metadata": {
  "anaconda-cloud": {},
  "celltoolbar": "Raw Cell Format",
  "kernelspec": {
   "display_name": "venv",
   "language": "python",
   "name": "venv"
  },
  "language_info": {
   "codemirror_mode": {
    "name": "ipython",
    "version": 3
   },
   "file_extension": ".py",
   "mimetype": "text/x-python",
   "name": "python",
   "nbconvert_exporter": "python",
   "pygments_lexer": "ipython3",
   "version": "3.9.6"
  },
  "toc-showmarkdowntxt": true
 },
 "nbformat": 4,
 "nbformat_minor": 4
}
