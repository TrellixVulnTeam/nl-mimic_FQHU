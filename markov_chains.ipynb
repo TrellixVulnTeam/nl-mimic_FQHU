{
 "cells": [
  {
   "cell_type": "code",
   "execution_count": 1,
   "metadata": {
    "tags": []
   },
   "outputs": [],
   "source": [
    "import random"
   ]
  },
  {
   "cell_type": "code",
   "execution_count": 31,
   "metadata": {},
   "outputs": [],
   "source": [
    "class PairLink:\n",
    "    \n",
    "    def __init__(self, key, value, unwanted = []):\n",
    "        self._unwanted = unwanted\n",
    "        self._val = value\n",
    "        self._key = key\n",
    "    \n",
    "    def clean(self, f):\n",
    "        def alter(elt):\n",
    "            if type(elt) != str: return None\n",
    "            for item in self._unwanted:\n",
    "                if type(elt) == str:\n",
    "                    elt = elt.replace(item, '')\n",
    "            return f(elt)\n",
    "        self._val = alter(self._val)\n",
    "        self._key = alter(self._key)\n",
    "    \n",
    "    def val(self):\n",
    "        return self._val\n",
    "    \n",
    "    def key(self):\n",
    "        return self._key\n",
    "    \n",
    "    def __repr__(self):\n",
    "        return str(self._key) + ' -> ' + str(self._val)"
   ]
  },
  {
   "cell_type": "code",
   "execution_count": 3,
   "metadata": {},
   "outputs": [],
   "source": [
    "class MkvPool:\n",
    "    \n",
    "    def __init__(self, pair_link_list):\n",
    "        self._list = [l for l in pair_link_list]\n",
    "    \n",
    "    def clean_all(self, f):\n",
    "        return [l.clean(f) for l in self._list]\n",
    "    \n",
    "    def item_list(self):\n",
    "        return [item for item in dic(self).keys()]\n",
    "    \n",
    "    def size(self):\n",
    "        return len(self._list)\n",
    "    \n",
    "    def lst(self):\n",
    "        return self._list\n",
    "    \n",
    "    def dic(self):\n",
    "        return {l.key(): l.val() for l in self._list}\n",
    "    \n",
    "    def next_deterministic(self, first):\n",
    "        k = {}\n",
    "        for l in self.lst():\n",
    "            if l.key() == first:\n",
    "                if l.val() not in k.keys():\n",
    "                    k[l.val()] = 1\n",
    "                else:\n",
    "                    k[l.val()] += 1\n",
    "        return max(k, key = k.get)"
   ]
  },
  {
   "cell_type": "code",
   "execution_count": 32,
   "metadata": {},
   "outputs": [],
   "source": [
    "def read_txt(file, characters = None):\n",
    "    finn = open(file)\n",
    "    data = finn.read(characters)\n",
    "    finn.close()\n",
    "    return data\n",
    "\n",
    "def word_PairLinks(string, unwanted_chars):\n",
    "    words = string.split()\n",
    "    links = [PairLink(None, words[0], unwanted_chars)]\n",
    "    for i in range(len(words) - 2):\n",
    "        links.append(PairLink(words[i], words[i + 1], unwanted_chars))\n",
    "    links.append(PairLink(words[-1], None))\n",
    "    return links\n",
    "\n",
    "unwanted = ['\"', '^', '*', '-', '_', '/', '[', ']', '<', '>', '~', ',']\n",
    "txt = read_txt('data/huck_finn.txt', 500000)\n",
    "word_pairs = word_PairLinks(txt, unwanted)\n",
    "pool = MkvPool(word_pairs)\n",
    "pool.clean_all(lambda s: s.lower())\n",
    "\n",
    "pooldict = pool.dic()"
   ]
  },
  {
   "cell_type": "code",
   "execution_count": 35,
   "metadata": {},
   "outputs": [],
   "source": [
    "def make_deterministic_chain(pool, length, seed = None):\n",
    "    seen = []\n",
    "    counter = 0\n",
    "    last = seed\n",
    "    chain = '' if not seed else seed\n",
    "    while counter < length:\n",
    "        nxt = pool.next_deterministic(last)\n",
    "        seen += nxt\n",
    "        chain += ' ' + nxt\n",
    "        last = nxt\n",
    "        counter += 1\n",
    "    return chain\n",
    "\n",
    "def make_stochastic_chain(dictionary, length, seed = None):\n",
    "    seen = []\n",
    "    counter = 0\n",
    "    last = seed\n",
    "    chain = '' if not seed else seed\n",
    "    while counter < length:\n",
    "        nxt = dictionary[last]\n",
    "        chain += ' ' + nxt\n",
    "        last = nxt\n",
    "        counter += 1\n",
    "    return chain"
   ]
  },
  {
   "cell_type": "code",
   "execution_count": 44,
   "metadata": {},
   "outputs": [
    {
     "name": "stdout",
     "output_type": "stream",
     "text": [
      "would be a little and the king he was a little and the king he was\n"
     ]
    }
   ],
   "source": [
    "print(make_deterministic_chain(pool, 15, 'would'))"
   ]
  },
  {
   "cell_type": "code",
   "execution_count": null,
   "metadata": {},
   "outputs": [],
   "source": []
  }
 ],
 "metadata": {
  "anaconda-cloud": {},
  "celltoolbar": "Raw Cell Format",
  "kernelspec": {
   "display_name": "venv",
   "language": "python",
   "name": "venv"
  },
  "language_info": {
   "codemirror_mode": {
    "name": "ipython",
    "version": 3
   },
   "file_extension": ".py",
   "mimetype": "text/x-python",
   "name": "python",
   "nbconvert_exporter": "python",
   "pygments_lexer": "ipython3",
   "version": "3.9.6"
  },
  "toc-showmarkdowntxt": true
 },
 "nbformat": 4,
 "nbformat_minor": 4
}
